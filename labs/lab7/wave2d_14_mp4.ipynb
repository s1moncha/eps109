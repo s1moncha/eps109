{
 "cells": [
  {
   "cell_type": "code",
   "execution_count": null,
   "metadata": {
    "collapsed": true
   },
   "outputs": [],
   "source": [
    "import numpy as np\n",
    "import matplotlib.pyplot as plt\n",
    "from mpl_toolkits.mplot3d import Axes3D\n",
    "from matplotlib import cm"
   ]
  },
  {
   "cell_type": "code",
   "execution_count": 3,
   "metadata": {
    "collapsed": true,
    "scrolled": true
   },
   "outputs": [],
   "source": [
    "n=151\n",
    "L = 10.0\n",
    "X = np.linspace(0, L, n)\n",
    "Y = np.linspace(0, L, n)\n",
    "X, Y = np.meshgrid(X, Y)\n",
    "Z = np.zeros((n,n))\n",
    "\n",
    "#fig = plt.figure(figsize=(5.,5.),dpi=200)\n",
    "#plt.show()\n",
    "#ax = fig.gca(projection='3d')\n",
    "#surf = ax.plot_surface(X, Y, Z, cmap=cm.coolwarm,antialiased=False)"
   ]
  },
  {
   "cell_type": "code",
   "execution_count": 4,
   "metadata": {},
   "outputs": [],
   "source": [
    "from matplotlib.animation import FFMpegWriter\n",
    "metadata = dict(title='My first animation in 3D', artist='Matplotlib',comment='Wakanda is here now.')\n",
    "writer = FFMpegWriter(fps=15, metadata=metadata,bitrate=200000)\n",
    "fig = plt.figure(dpi=200)"
   ]
  },
  {
   "cell_type": "code",
   "execution_count": 5,
   "metadata": {
    "collapsed": true
   },
   "outputs": [
    {
     "name": "stdout",
     "output_type": "stream",
     "text": [
      "0..........10..........20..........30..........40..........50..........60..........70..........80..........90.........."
     ]
    }
   ],
   "source": [
    "with writer.saving(fig, \"wave2d.mp4\", dpi=200):\n",
    "    nf = 100\n",
    "    for it in range(nf):\n",
    "        if (it%10==0): print(it,end='')\n",
    "        print('.',end='')\n",
    "\n",
    "        f = 2.0*2.0*np.pi/n\n",
    "        for i in range(n):\n",
    "            for j in range(n):\n",
    "                R = np.sqrt( (i-n/2)**2 + (j-n/2)**2 )\n",
    "                Z[i,j] = np.sin(f*(R+it))*np.exp(-R/100.0)\n",
    "        fig.clear()\n",
    "        ax = fig.gca(projection='3d')\n",
    "        ax.plot_surface(X, Y, Z, cmap=cm.coolwarm, antialiased=False)\n",
    "        plt.draw()\n",
    "        plt.pause(0.01)\n",
    "        writer.grab_frame()"
   ]
  },
  {
   "cell_type": "code",
   "execution_count": null,
   "metadata": {},
   "outputs": [],
   "source": []
  },
  {
   "cell_type": "code",
   "execution_count": null,
   "metadata": {},
   "outputs": [],
   "source": []
  },
  {
   "cell_type": "code",
   "execution_count": null,
   "metadata": {},
   "outputs": [],
   "source": []
  }
 ],
 "metadata": {
  "kernelspec": {
   "display_name": "Python 3",
   "language": "python",
   "name": "python3"
  },
  "language_info": {
   "codemirror_mode": {
    "name": "ipython",
    "version": 3
   },
   "file_extension": ".py",
   "mimetype": "text/x-python",
   "name": "python",
   "nbconvert_exporter": "python",
   "pygments_lexer": "ipython3",
   "version": "3.6.6"
  }
 },
 "nbformat": 4,
 "nbformat_minor": 2
}
