{
 "cells": [
  {
   "cell_type": "code",
   "execution_count": 1,
   "metadata": {
    "collapsed": true
   },
   "outputs": [],
   "source": [
    "## %matplotlib inline\n",
    "%matplotlib osx"
   ]
  },
  {
   "cell_type": "code",
   "execution_count": 2,
   "metadata": {},
   "outputs": [],
   "source": [
    "import matplotlib.pyplot as plt\n",
    "import numpy as np"
   ]
  },
  {
   "cell_type": "code",
   "execution_count": 10,
   "metadata": {},
   "outputs": [
    {
     "name": "stdout",
     "output_type": "stream",
     "text": [
      "0..........10..........20..........30..........40..........50..........60..........70..........80..........90.........."
     ]
    }
   ],
   "source": [
    "from matplotlib.animation import FFMpegWriter\n",
    "metadata = dict(title='My first animation in 2D', artist='Matplotlib',comment='Wakanda is coming.')\n",
    "writer = FFMpegWriter(fps=15, metadata=metadata)\n",
    "fig = plt.figure()\n",
    "\n",
    "with writer.saving(fig, \"wave1d.mp4\", dpi=200):\n",
    "    nf = 100\n",
    "    for it in range(nf):\n",
    "        if (it%10==0): print(it,end='')\n",
    "        print('.',end='')\n",
    "\n",
    "        n = 50\n",
    "        y = np.zeros(n)\n",
    "        f = 2.0*np.pi/n\n",
    "        for i in range(n):\n",
    "            y[i] = np.cos(f*(i+it)) + np.sin(f*it)*np.cos(3*f*(i+it))\n",
    "        plt.clf()\n",
    "        plt.plot(y, 'ro-',mfc='w')\n",
    "        plt.show()\n",
    "        plt.draw()\n",
    "        plt.pause(0.05)\n",
    "        writer.grab_frame()"
   ]
  },
  {
   "cell_type": "code",
   "execution_count": null,
   "metadata": {},
   "outputs": [],
   "source": []
  }
 ],
 "metadata": {
  "kernelspec": {
   "display_name": "Python 3",
   "language": "python",
   "name": "python3"
  },
  "language_info": {
   "codemirror_mode": {
    "name": "ipython",
    "version": 3
   },
   "file_extension": ".py",
   "mimetype": "text/x-python",
   "name": "python",
   "nbconvert_exporter": "python",
   "pygments_lexer": "ipython3",
   "version": "3.6.6"
  }
 },
 "nbformat": 4,
 "nbformat_minor": 2
}
