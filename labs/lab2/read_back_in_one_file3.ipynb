{
 "cells": [
  {
   "cell_type": "code",
   "execution_count": 16,
   "metadata": {},
   "outputs": [],
   "source": [
    "import matplotlib.pyplot as plt\n",
    "import numpy as np"
   ]
  },
  {
   "cell_type": "code",
   "execution_count": 17,
   "metadata": {},
   "outputs": [],
   "source": [
    "# change the file name so that this code tries to read your own dataset\n",
    "filename = '/Users/simoncha/Desktop/school/EPS 109/labs/lab2/my_data.txt'"
   ]
  },
  {
   "cell_type": "code",
   "execution_count": 18,
   "metadata": {},
   "outputs": [
    {
     "name": "stdout",
     "output_type": "stream",
     "text": [
      "[0.55 0.96 0.48 0.08 0.63 0.89 0.52 0.6  0.51 0.78 0.62 0.1  0.04 0.78\n",
      " 0.43 0.74 0.69 0.11 0.44 0.88 0.19 0.04 0.95 0.47 0.59 0.56 0.65 0.17\n",
      " 0.73 0.13 0.9  0.79 0.53 0.34 0.44 0.78 0.99 0.65 0.48 0.63 0.83 0.51\n",
      " 0.32 0.28 0.56 0.61 0.64 0.56 0.97 0.78 0.35 0.11 0.49 0.77 0.23 0.13\n",
      " 0.94 0.53 0.5  0.99 0.86 0.25 0.46 0.23 0.85 0.59 0.26 0.6  0.18 0.55\n",
      " 0.42 0.3  0.86 0.69 0.54 0.81 0.91 0.57 0.07 0.57 0.78 0.52 0.59 0.3\n",
      " 0.57 0.43 0.4  0.63 0.19 0.52 0.42 0.79 0.32 0.29 0.23 0.3  0.67 0.81\n",
      " 0.2  0.35]\n",
      "Very good. Your dataset was read properly. Please submit it.\n"
     ]
    }
   ],
   "source": [
    "data = np.loadtxt(filename)\n",
    "print(data)\n",
    "\n",
    "problem = False\n",
    "\n",
    "if (len(data.shape)!=1):\n",
    "    print(\"Warning: Your file contains more than one column but it should only have one. Remove the other.\",len(data.shape))\n",
    "    problem = True\n",
    "    \n",
    "if (data.shape[0] != 100):\n",
    "    print(\"Warning: Your dataset does not contain the expected 100 values:\",data.shape[0])\n",
    "    problem = True\n",
    "    \n",
    "for i in range(data.shape[0]):\n",
    "    if (data[i]<=0  or data[i]>=1):\n",
    "        print(\"Warning: Entry number \",i,\"is not inside expected range of 0<x<1. Instead x=\",data[i])\n",
    "        problem = True\n",
    "    \n",
    "if (problem==True):\n",
    "    print(\"The was a problem with your dataset. Please try to correct it before submission.\")\n",
    "else:\n",
    "    print(\"Very good. Your dataset was read properly. Please submit it.\")"
   ]
  },
  {
   "cell_type": "code",
   "execution_count": null,
   "metadata": {},
   "outputs": [],
   "source": []
  }
 ],
 "metadata": {
  "kernelspec": {
   "display_name": "base",
   "language": "python",
   "name": "python3"
  },
  "language_info": {
   "codemirror_mode": {
    "name": "ipython",
    "version": 3
   },
   "file_extension": ".py",
   "mimetype": "text/x-python",
   "name": "python",
   "nbconvert_exporter": "python",
   "pygments_lexer": "ipython3",
   "version": "3.12.4"
  }
 },
 "nbformat": 4,
 "nbformat_minor": 4
}
