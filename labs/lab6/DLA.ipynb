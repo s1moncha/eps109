{
 "cells": [
  {
   "cell_type": "markdown",
   "metadata": {},
   "source": [
    "# Diffusion Limited Aggregation \n",
    "\n",
    "#### Author : B. Militzer, University of California, Berkeley \n",
    "#### Date   : Sept. 26, 2018\n",
    "\n",
    "#### Read \"The Science of Fractal Images\", Ed. Peitgen and Saupe, p. 37 (1988)\n"
   ]
  },
  {
   "cell_type": "code",
   "execution_count": 2,
   "metadata": {
    "collapsed": true,
    "jupyter": {
     "outputs_hidden": true
    }
   },
   "outputs": [],
   "source": [
    "import numpy as np\n",
    "import matplotlib.pyplot as plt"
   ]
  },
  {
   "cell_type": "code",
   "execution_count": 3,
   "metadata": {},
   "outputs": [],
   "source": [
    "#note, this function expects a matrix A[ix,iy] \n",
    "#and then displays so that A[:,0] is the lowest row of pixels\n",
    "def display(A):\n",
    "    maxX = A.shape[0]\n",
    "    maxY = A.shape[1]\n",
    "    B = np.zeros((maxY, maxX))\n",
    "    for ix in range(0,maxX):\n",
    "        for iy in range(0,maxY):\n",
    "            B[maxY-1-iy,ix] = A[ix,iy]\n",
    "\n",
    "    #Display the graphics outside of the notebook. \n",
    "    #On a PC, use '%matplotlib qt' instead.\n",
    "    %matplotlib osx \n",
    "    \n",
    "    plt.rcParams['figure.figsize'] = [6, 6/maxX*maxY]\n",
    "    plt.imshow(B); \n",
    "    plt.axis('off'); \n",
    "    plt.show()\n",
    "    plt.draw()\n",
    "    plt.pause(0.01)"
   ]
  },
  {
   "cell_type": "code",
   "execution_count": 4,
   "metadata": {
    "collapsed": true,
    "jupyter": {
     "outputs_hidden": true
    }
   },
   "outputs": [],
   "source": [
    "nParticles = 10000\n",
    "maxX = 200\n",
    "maxY = 100"
   ]
  },
  {
   "cell_type": "code",
   "execution_count": 5,
   "metadata": {},
   "outputs": [
    {
     "name": "stdout",
     "output_type": "stream",
     "text": [
      "[[1. 1. 1. ... 1. 1. 1.]\n",
      " [0. 0. 0. ... 0. 0. 0.]\n",
      " [0. 0. 0. ... 0. 0. 0.]\n",
      " ...\n",
      " [0. 0. 0. ... 0. 0. 0.]\n",
      " [0. 0. 0. ... 0. 0. 0.]\n",
      " [0. 0. 0. ... 0. 0. 0.]]\n"
     ]
    }
   ],
   "source": [
    "# Initialize matrix containing all 2D grid points A(x,y)\n",
    "# 0 <= x < maxX\n",
    "# 0 <= y < maxY\n",
    "# A(x,y)=0 ... site is empty\n",
    "# A(x,y)>0 ... site is filled\n",
    "A = np.zeros((maxX, maxY))\n",
    "\n",
    "# Introduce a sticky wall at the bottom \n",
    "# by filling the lowest row of pixels with particles\n",
    "A[:,0] = 1\n",
    "print(A.transpose())"
   ]
  },
  {
   "cell_type": "code",
   "execution_count": null,
   "metadata": {},
   "outputs": [
    {
     "ename": "",
     "evalue": "",
     "output_type": "error",
     "traceback": [
      "\u001b[1;31mThe Kernel crashed while executing code in the current cell or a previous cell. \n",
      "\u001b[1;31mPlease review the code in the cell(s) to identify a possible cause of the failure. \n",
      "\u001b[1;31mClick <a href='https://aka.ms/vscodeJupyterKernelCrash'>here</a> for more info. \n",
      "\u001b[1;31mView Jupyter <a href='command:jupyter.viewOutput'>log</a> for further details."
     ]
    }
   ],
   "source": [
    "#test the display routine\n",
    "display(A)"
   ]
  },
  {
   "cell_type": "code",
   "execution_count": null,
   "metadata": {
    "collapsed": true,
    "jupyter": {
     "outputs_hidden": true
    }
   },
   "outputs": [
    {
     "ename": "",
     "evalue": "",
     "output_type": "error",
     "traceback": [
      "\u001b[1;31mThe Kernel crashed while executing code in the current cell or a previous cell. \n",
      "\u001b[1;31mPlease review the code in the cell(s) to identify a possible cause of the failure. \n",
      "\u001b[1;31mClick <a href='https://aka.ms/vscodeJupyterKernelCrash'>here</a> for more info. \n",
      "\u001b[1;31mView Jupyter <a href='command:jupyter.viewOutput'>log</a> for further details."
     ]
    }
   ],
   "source": [
    "# To save computer time, we want to inject the new particle not too far\n",
    "# above growing aggregate. We inject at on a line 'yStart', which\n",
    "# keeps being increased so that it is always 'yBuffer' lines above the\n",
    "# highest structure\n",
    "yBuffer = 5\n",
    "yStart  = 1 + yBuffer"
   ]
  },
  {
   "cell_type": "code",
   "execution_count": null,
   "metadata": {},
   "outputs": [],
   "source": [
    "for i in range(0,nParticles):\n",
    "    # Compute new starting point on the line y=yStart\n",
    "    x  = np.random.randint(0,maxX)\n",
    "    y  = yStart; #always start at upper limit\n",
    "\n",
    "    while True:\n",
    "        xOrg = x\n",
    "        yOrg = y\n",
    "\n",
    "        r = np.random.random(); # Random float:  0.0 <= r < 1.0\n",
    "        #based on the value of 'r', move the particle\n",
    "        #left, right, up, or down and change x and y accordingly\n",
    "        ...\n",
    "        \n",
    "        #now apply periodic boundary conditions to 'x'\n",
    "        ...\n",
    "        \n",
    "        if (A[x,y] == 1 or y>yStart): \n",
    "            x = xOrg\n",
    "            y = yOrg\n",
    "            continue; # if this site has been taken try moving in a different direction\n",
    "        \n",
    "        #determine the x coordionates of the left and right neighbors\n",
    "        #store them in 'xm' and 'xp' and apply periodic boundary conditions again\n",
    "        xp = ...\n",
    "        xm = ...\n",
    "        yp = ...\n",
    "        ym = ...\n",
    " \n",
    "        # Determine if any neighboring site is occupied\n",
    "        # if that is the case, enter the following 'if' clause\n",
    "        if (...): \n",
    "            A[x,y] = 1\n",
    "            if (y+yBuffer>yStart and y+yBuffer<maxY): \n",
    "                yStart = y+yBuffer\n",
    "\n",
    "            if (i%1000==0): \n",
    "                print(f'i= {i} \\tx={x} \\ty={y} \\tyStart={yStart}')\n",
    "\n",
    "            nNewParticlesPerFrame = 1000 \n",
    "            if (i%nNewParticlesPerFrame==0): \n",
    "                display(A)\n",
    "                \n",
    "            break # particle was attached, break out of current loop and insert next one\n",
    "            \n",
    "    if (yStart+1==maxY): \n",
    "        print(f'Structures reached Y limit after only {i} particles')\n",
    "        break\n",
    "\n",
    "display(A)\n",
    "        "
   ]
  }
 ],
 "metadata": {
  "kernelspec": {
   "display_name": "base",
   "language": "python",
   "name": "python3"
  },
  "language_info": {
   "codemirror_mode": {
    "name": "ipython",
    "version": 3
   },
   "file_extension": ".py",
   "mimetype": "text/x-python",
   "name": "python",
   "nbconvert_exporter": "python",
   "pygments_lexer": "ipython3",
   "version": "3.12.4"
  }
 },
 "nbformat": 4,
 "nbformat_minor": 4
}
