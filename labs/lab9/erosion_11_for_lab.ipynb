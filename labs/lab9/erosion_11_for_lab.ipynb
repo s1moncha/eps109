{
 "cells": [
  {
   "cell_type": "markdown",
   "metadata": {},
   "source": [
    "Lab 9"
   ]
  },
  {
   "cell_type": "markdown",
   "metadata": {},
   "source": [
    "Preface: I was not able to get the erosion model to work as expected. Instead of the landscape eroding over time, the elevation in my simulation kept increasing. I tried adjusting parameters like the time step, uplift rate, and erosion constants, but the results stayed inconsistent with what should happen physically. This likely came from a sign or scaling issue in the erosion term, where uplift and incision were not balancing correctly. Even though the code didn’t produce the right visual outcome, I'll do my best to answer the changing parameters"
   ]
  },
  {
   "cell_type": "markdown",
   "metadata": {},
   "source": [
    "5. Changing Stream Stress Threshold"
   ]
  },
  {
   "cell_type": "markdown",
   "metadata": {},
   "source": [
    "When qc is higher, rivers need more force to start eroding. Smaller streams stop cutting into the surface, and only the largest, steepest channels remain active. The landscape becomes smoother and less dissected, with wider valleys and fewer visible drainage lines. Overall, higher qc slows down erosion and makes the terrain more rounded and diffusive."
   ]
  },
  {
   "cell_type": "markdown",
   "metadata": {},
   "source": [
    "6. Changing Slope Exponent"
   ]
  },
  {
   "cell_type": "markdown",
   "metadata": {},
   "source": [
    "As n increases, erosion becomes much more sensitive to slope. Steeper areas erode very quickly, while flatter areas hardly change. This creates sharp ridges, steep valley walls, and strong relief across the landscape. Higher n values make the terrain look more rugged and unstable, which is why a smaller time step is needed to keep the model stable."
   ]
  },
  {
   "cell_type": "markdown",
   "metadata": {},
   "source": [
    "7. Changing Area Exponent"
   ]
  },
  {
   "cell_type": "markdown",
   "metadata": {},
   "source": [
    "A larger m means that erosion depends more on the amount of contributing drainage area. Big rivers cut deeper and become more dominant, while smaller channels fade or get captured. The result is a landscape with a few major valleys and wide basins shaped by large rivers instead of many small ones."
   ]
  },
  {
   "cell_type": "code",
   "execution_count": 46,
   "metadata": {
    "collapsed": true,
    "jupyter": {
     "outputs_hidden": true
    }
   },
   "outputs": [],
   "source": [
    "%matplotlib inline\n",
    "# On Macs use osx\n",
    "# For Windows use qt\n",
    "\n",
    "import numpy as np\n",
    "from numpy.random import rand\n",
    "from landscape import Landscape # Import methods from inside file landscape.py\n",
    "\n",
    "from mpl_toolkits.mplot3d import Axes3D\n",
    "import matplotlib.pyplot as plt\n",
    "from matplotlib import cm"
   ]
  },
  {
   "cell_type": "code",
   "execution_count": 25,
   "metadata": {},
   "outputs": [],
   "source": [
    "### Define simulation grid and initial conditions\n",
    "\n",
    "# small random features in topography to begin erosion\n",
    "def initial_conditions(NX,NY):\n",
    "    Z = rand(NX,NY)\n",
    "    return Z\n",
    "\n",
    "NX = 70 #number of rows\n",
    "NY = 70 #number of columns\n",
    "\n",
    "d  = 5 # grid spacing in meters\n",
    "dx = d # keep dx=dy for simplicity\n",
    "dy = d\n",
    "\n",
    "LX=NX*dx\n",
    "LY=NY*dy\n",
    "\n",
    "Z = initial_conditions(NX,NY)\n",
    "\n",
    "x = np.arange(NX)\n",
    "y = np.arange(NY)\n",
    "X,Y = np.meshgrid(y,x) #strange that y goes first !!!"
   ]
  },
  {
   "cell_type": "code",
   "execution_count": 26,
   "metadata": {
    "collapsed": true,
    "jupyter": {
     "outputs_hidden": true
    }
   },
   "outputs": [],
   "source": [
    "### Physical Parameters\n",
    "K = 1.0e-6 # meters^(1-2m)/yr\n",
    "\n",
    "D = 0.005 # m^2/yr\n",
    "\n",
    "# uplift rate\n",
    "uplift = 0.03 / 600."
   ]
  },
  {
   "cell_type": "code",
   "execution_count": 27,
   "metadata": {},
   "outputs": [
    {
     "name": "stdout",
     "output_type": "stream",
     "text": [
      "62.5\n"
     ]
    }
   ],
   "source": [
    "deltaT = 25/8 * (1/(5*10e-3))\n",
    "print(deltaT)\n",
    "\n",
    "# This means at equilibrium where N = 1/8 it's 62.5 years. Let's set delta t to 100 years"
   ]
  },
  {
   "cell_type": "code",
   "execution_count": 28,
   "metadata": {},
   "outputs": [
    {
     "name": "stdout",
     "output_type": "stream",
     "text": [
      " dt[years] =  625\n"
     ]
    }
   ],
   "source": [
    "### Model parameters\n",
    "\n",
    "# Set the time step dt\n",
    "# Remember for 2D diffusion problems we need eta = D * dt / dx^2 < 1/4\n",
    "# but because of the fluvial erosion terms please use eta < 1/8 or less\n",
    "dt = 625\n",
    "print(' dt[years] = ',dt)\n",
    "\n",
    "#Area exponent A^m, default m=1\n",
    "m=1\n",
    "\n",
    "#gradient exponent g^n, default n=1\n",
    "n=1\n",
    "\n",
    "#erosion threshold \n",
    "theta_c = 10 "
   ]
  },
  {
   "cell_type": "code",
   "execution_count": 29,
   "metadata": {},
   "outputs": [
    {
     "name": "stdout",
     "output_type": "stream",
     "text": [
      "Number of interations:  2000\n"
     ]
    }
   ],
   "source": [
    "# Total simulation time\n",
    "T = 2000.0 * 625.0\n",
    "\n",
    "# total number of iterations\n",
    "n_iter = int(np.round(T/dt))\n",
    "print('Number of interations: ',n_iter)"
   ]
  },
  {
   "cell_type": "code",
   "execution_count": 30,
   "metadata": {
    "collapsed": true,
    "jupyter": {
     "outputs_hidden": true
    }
   },
   "outputs": [],
   "source": [
    "# Initialize landscape \n",
    "ls = Landscape(NX,NY)\n",
    "ls.pool_check(Z,NX,NY)\n",
    "ls.A = np.zeros((NX,NY))"
   ]
  },
  {
   "cell_type": "code",
   "execution_count": 31,
   "metadata": {},
   "outputs": [],
   "source": [
    "# Set-up figure\n",
    "def init_figure():\n",
    "    fig = plt.figure(figsize=(12.,6.))\n",
    "    plt.show()\n",
    "    return fig\n",
    "\n",
    "def update_figure():\n",
    "        plt.clf()\n",
    "        ax1 = fig.add_subplot(121,projection='3d')\n",
    "\n",
    "        # use equal x-y aspect with an explicit vertical exageration\n",
    "        vert_exag = 4.\n",
    "        ax1.set_xlim3d(0,max(NX,NY))\n",
    "        ax1.set_ylim3d(0,max(NX,NY))\n",
    "        ax1.set_zlim3d(0,max(NX,NY) / vert_exag)\n",
    "\n",
    "        ax1.set_title('Surface Relief x '+str(vert_exag))\n",
    "\n",
    "#        surf = ax1.plot_surface(X,Y,Z, color='yellowgreen', rstride=1, cstride=1,\n",
    "#                antialiased=False,linewidth=0)\n",
    "        surf = ax1.plot_surface(X,Y,Z, cmap = cm.terrain, rstride=1, cstride=1,\n",
    "                antialiased=False,linewidth=0)\n",
    "\n",
    "        ax2 = fig.add_subplot(122,aspect='equal')\n",
    "        ax2.set_title('Elevation')\n",
    "\n",
    "        #im = ax2.pcolor(Z,cmap=cm.terrain)\n",
    "        im = ax2.pcolor(Z,cmap=cm.coolwarm)\n",
    "        cs = ax2.contour(Z,6,colors='k')\n",
    "\n",
    "        # Add a color bar which maps values to colors.\n",
    "        cbar = fig.colorbar(im, shrink=0.5, aspect=5)\n",
    "        # Add the contour line levels to the colorbar\n",
    "        cbar.add_lines(cs)\n",
    "\n",
    "        #plt.show()\n",
    "        plt.draw()\n",
    "        plt.pause(0.05)"
   ]
  },
  {
   "cell_type": "code",
   "execution_count": null,
   "metadata": {},
   "outputs": [],
   "source": [
    "frames = []   # to store elevation snapshots\n",
    "save_every = 50  # record every 50 iterations\n",
    "\n",
    "fig = init_figure()\n",
    "Znew = np.copy(Z)\n",
    "\n",
    "for it in range(1, n_iter+1):\n",
    "    \n",
    "    ls.calculate_collection_area(Z, NX, NY)\n",
    "    ls.A = ls.A * (dx * dy)\n",
    "    \n",
    "    for i in range(NX):\n",
    "        iL = np.mod(i-1, NX)  # periodic BC: left neighbor\n",
    "        iR = np.mod(i+1, NX)  # periodic BC: right neighbor\n",
    "\n",
    "        for j in range(NY):\n",
    "            jD = np.mod(j-1, NY)  # periodic BC: down neighbor\n",
    "            jU = np.mod(j+1, NY)  # periodic BC: up neighbor\n",
    "  \n",
    "            if ls.drain[i,j] > 0:  # regular point (not a pool)\n",
    "                # --- compute finite-difference slopes ---\n",
    "                s1 = (Z[iR, j] - Z[iL, j]) / (2 * dx)\n",
    "                s2 = (Z[i, jU] - Z[i, jD]) / (2 * dy)\n",
    "                s3 = (Z[iR, jD] - Z[iL, jU]) / (2 * np.sqrt(dx**2 + dy**2))\n",
    "                s4 = (Z[iR, jU] - Z[iL, jD]) / (2 * np.sqrt(dx**2 + dy**2))\n",
    "\n",
    "                gradient = (np.sqrt(s1**2 + s2**2) + np.sqrt(s3**2 + s4**2))/2.\n",
    "                Psi_z = K * ( ls.A[i,j]**m * gradient**n - theta_c)            \n",
    "\n",
    "            elif ls.drainage[i,j] > 0:  # drainage point (pool outlet)\n",
    "                # choose downstream gradient direction\n",
    "                if (Z[i,j] >= Z[iR,j]) and ls.pool[iR,j] != ls.drainage[i,j]:\n",
    "                    grad = (Z[i,j] - Z[iR,j]) / dx\n",
    "                elif (Z[i,j] >= Z[iL,j]) and ls.pool[iL,j] != ls.drainage[i,j]:\n",
    "                    grad = (Z[i,j] - Z[iL,j]) / dx\n",
    "                elif (Z[i,j] >= Z[i,jU]) and ls.pool[i,jU] != ls.drainage[i,j]:\n",
    "                    grad = (Z[i,j] - Z[i,jU]) / dy\n",
    "                elif (Z[i,j] >= Z[i,jD]) and ls.pool[i,jD] != ls.drainage[i,j]:\n",
    "                    grad = (Z[i,j] - Z[i,jD]) / dy\n",
    "                else:\n",
    "                    grad = 0.02  # small fallback gradient\n",
    "\n",
    "                driving = (ls.A[i,j]**m) * (grad**n) - theta_c\n",
    "                if driving < 0:\n",
    "                    driving = 0.0\n",
    "\n",
    "                Psi_z = uplift - K * driving\n",
    "\n",
    "            else:  # pool cells — diffusion only\n",
    "                Psi_z = 0.0\n",
    "                \n",
    "            # --- diffusion term Φ(z) ---\n",
    "            Phi_z = D * (\n",
    "                (Z[iR, j] - 2 * Z[i, j] + Z[iL, j]) / (dx**2) +\n",
    "                (Z[i, jU] - 2 * Z[i, j] + Z[i, jD]) / (dy**2)\n",
    "            )\n",
    "           \n",
    "            # --- update elevation (NO double uplift) ---\n",
    "            Znew[i,j] = Z[i,j] + (Phi_z + Psi_z) * dt  \n",
    "\n",
    "            # --- stability check ---\n",
    "            dZdt = (Znew[i,j] - Z[i,j]) / dt\n",
    "            CFL = abs(dZdt) * dt / min(dx, dy)\n",
    "            if CFL > 1.0:\n",
    "                print(f'\\nWarning: Time step {dt} too large. Safer would be {dt/CFL:.2f}')\n",
    "            \n",
    "            # prevent negatives at boundaries\n",
    "            if Znew[i,j] < 0.0:\n",
    "                Znew[i,j] = 0.0\n",
    "    \n",
    "    # --- boundary condition & copy ---\n",
    "    Znew[0,:] = 0.0  # fixed front boundary\n",
    "    Z = np.copy(Znew)\n",
    "    \n",
    "    # --- check and record pools ---\n",
    "    ls.pool_check(Z, NX, NY)\n",
    "\n",
    "    # --- save frames for animation ---\n",
    "    if it % save_every == 0:\n",
    "        frames.append(Z.copy())\n",
    "\n",
    "    # --- periodic visual updates ---\n",
    "    if np.mod(it,10) == 0: \n",
    "        print(it, end='')\n",
    "        update_figure()\n",
    "    else:\n",
    "        print('.', end='')\n",
    "\n",
    "update_figure()\n",
    "print('\\nSimulation finished.')"
   ]
  },
  {
   "cell_type": "code",
   "execution_count": 44,
   "metadata": {},
   "outputs": [
    {
     "data": {
      "image/png": "[encoded data removed]",
      "text/plain": [
       "<Figure size 800x600 with 2 Axes>"
      ]
     },
     "metadata": {},
     "output_type": "display_data"
    }
   ],
   "source": [
    "import matplotlib.pyplot as plt\n",
    "import matplotlib.animation as animation\n",
    "\n",
    "fig, ax = plt.subplots(figsize=(8,6))\n",
    "im = ax.imshow(frames[0], origin='lower', cmap='terrain', animated=True)\n",
    "cb = plt.colorbar(im, ax=ax, label='Elevation (m)')\n",
    "ax.set_title('Landscape evolution')\n",
    "ax.set_xlabel('X')\n",
    "ax.set_ylabel('Y')\n",
    "\n",
    "def update(frame):\n",
    "    im.set_array(frame)\n",
    "    return [im]\n",
    "\n",
    "ani = animation.FuncAnimation(\n",
    "    fig, update, frames=frames, interval=100, blit=True, repeat=True\n",
    ")\n",
    "\n",
    "plt.show()"
   ]
  },
  {
   "cell_type": "code",
   "execution_count": 45,
   "metadata": {},
   "outputs": [],
   "source": [
    "ani.save('landscape_evolution.mp4', writer='ffmpeg', fps=10)"
   ]
  },
  {
   "cell_type": "code",
   "execution_count": null,
   "metadata": {},
   "outputs": [],
   "source": [
    "import numpy as np\n",
    "import matplotlib.pyplot as plt\n",
    "from matplotlib import cm, animation\n",
    "\n",
    "# --- Helper function for saving animations ---\n",
    "def make_animation(frames, title, filename):\n",
    "    fig, ax = plt.subplots(figsize=(7,6))\n",
    "    im = ax.imshow(frames[0], cmap='terrain', origin='lower')\n",
    "    ax.set_title(title)\n",
    "    plt.colorbar(im, ax=ax, label='Elevation (m)')\n",
    "\n",
    "    def update(frame):\n",
    "        im.set_data(frame)\n",
    "        return [im]\n",
    "\n",
    "    ani = animation.FuncAnimation(fig, update, frames=frames, interval=80, blit=True)\n",
    "    ani.save(filename, writer='ffmpeg', fps=10)\n",
    "    plt.close(fig)\n",
    "\n",
    "# --- Create one base landscape so all runs start identical ---\n",
    "Z_initial = initial_conditions(NX, NY)\n",
    "\n",
    "# --- Loop over θc values ---\n",
    "for theta_c in [10, 100, 1000]:\n",
    "    print(f\"\\n=== Running simulation for θc = {theta_c} ===\")\n",
    "\n",
    "    frames = []   # to store elevation snapshots\n",
    "    save_every = 50  # record every 50 iterations\n",
    "\n",
    "    fig = init_figure()\n",
    "    Z = np.copy(Z_initial)  # identical start for all runs\n",
    "    Znew = np.copy(Z)\n",
    "\n",
    "    # --- Reset the landscape for a clean run ---\n",
    "    ls = Landscape(NX, NY)\n",
    "    ls.pool_check(Z, NX, NY)\n",
    "    ls.A = np.zeros((NX, NY))\n",
    "\n",
    "    for it in range(1, n_iter+1):\n",
    "        \n",
    "        ls.calculate_collection_area(Z, NX, NY)\n",
    "        ls.A = ls.A * (dx * dy)\n",
    "        \n",
    "        for i in range(NX):\n",
    "            iL = np.mod(i-1, NX)  # periodic BC: left neighbor\n",
    "            iR = np.mod(i+1, NX)  # periodic BC: right neighbor\n",
    "\n",
    "            for j in range(NY):\n",
    "                jD = np.mod(j-1, NY)  # periodic BC: down neighbor\n",
    "                jU = np.mod(j+1, NY)  # periodic BC: up neighbor\n",
    "      \n",
    "                if ls.drain[i,j] > 0:  # regular point (not a pool)\n",
    "                    # --- compute finite-difference slopes ---\n",
    "                    s1 = (Z[iR, j] - Z[iL, j]) / (2 * dx)\n",
    "                    s2 = (Z[i, jU] - Z[i, jD]) / (2 * dy)\n",
    "                    s3 = (Z[iR, jD] - Z[iL, jU]) / (2 * np.sqrt(dx**2 + dy**2))\n",
    "                    s4 = (Z[iR, jU] - Z[iL, jD]) / (2 * np.sqrt(dx**2 + dy**2))\n",
    "\n",
    "                    # effective slope (Eq. 15 in Perron 2008)\n",
    "                    S_eff = 0.5 * (np.sqrt(s1**2 + s2**2) + np.sqrt(s3**2 + s4**2))\n",
    "\n",
    "                    # fluvial erosion term\n",
    "                    driving = (ls.A[i,j]**m) * (S_eff**n) - theta_c\n",
    "                    if driving < 0:\n",
    "                        driving = 0.0\n",
    "\n",
    "                    Psi_z = uplift - K * driving\n",
    "\n",
    "                elif ls.drainage[i,j] > 0:  # drainage point (pool outlet)\n",
    "                    if (Z[i,j] >= Z[iR,j]) and ls.pool[iR,j] != ls.drainage[i,j]:\n",
    "                        grad = (Z[i,j] - Z[iR,j]) / dx\n",
    "                    elif (Z[i,j] >= Z[iL,j]) and ls.pool[iL,j] != ls.drainage[i,j]:\n",
    "                        grad = (Z[i,j] - Z[iL,j]) / dx\n",
    "                    elif (Z[i,j] >= Z[i,jU]) and ls.pool[i,jU] != ls.drainage[i,j]:\n",
    "                        grad = (Z[i,j] - Z[i,jU]) / dy\n",
    "                    elif (Z[i,j] >= Z[i,jD]) and ls.pool[i,jD] != ls.drainage[i,j]:\n",
    "                        grad = (Z[i,j] - Z[i,jD]) / dy\n",
    "                    else:\n",
    "                        grad = 0.02  # small fallback gradient\n",
    "\n",
    "                    driving = (ls.A[i,j]**m) * (grad**n) - theta_c\n",
    "                    if driving < 0:\n",
    "                        driving = 0.0\n",
    "\n",
    "                    Psi_z = uplift - K * driving\n",
    "\n",
    "                else:  # pool cells — diffusion only\n",
    "                    Psi_z = 0.0\n",
    "                    \n",
    "                # --- diffusion term Φ(z) ---\n",
    "                Phi_z = D * (\n",
    "                    (Z[iR, j] - 2 * Z[i, j] + Z[iL, j]) / (dx**2) +\n",
    "                    (Z[i, jU] - 2 * Z[i, j] + Z[i, jD]) / (dy**2)\n",
    "                )\n",
    "               \n",
    "                # --- update elevation ---\n",
    "                Znew[i,j] = Z[i,j] + (Phi_z + Psi_z) * dt  \n",
    "\n",
    "                # --- stability check ---\n",
    "                dZdt = (Znew[i,j] - Z[i,j]) / dt\n",
    "                CFL = abs(dZdt) * dt / min(dx, dy)\n",
    "                if CFL > 1.0:\n",
    "                    print(f'\\nWarning: Time step {dt} too large. Safer would be {dt/CFL:.2f}')\n",
    "                \n",
    "                # prevent negatives at boundaries\n",
    "                if Znew[i,j] < 0.0:\n",
    "                    Znew[i,j] = 0.0\n",
    "        \n",
    "        # --- boundary condition & copy ---\n",
    "        Znew[0,:] = 0.0  # fixed front boundary\n",
    "        Z = np.copy(Znew)\n",
    "        \n",
    "        # --- check and record pools ---\n",
    "        ls.pool_check(Z, NX, NY)\n",
    "\n",
    "        # --- save frames for animation ---\n",
    "        if it % save_every == 0:\n",
    "            frames.append(Z.copy())\n",
    "\n",
    "        # --- periodic visual updates ---\n",
    "        if np.mod(it,10) == 0: \n",
    "            print(it, end='')\n",
    "            update_figure()\n",
    "        else:\n",
    "            print('.', end='')\n",
    "\n",
    "    update_figure()\n",
    "    print(f'\\nSimulation finished for θc = {theta_c}')\n",
    "\n",
    "    # --- create and save animation ---\n",
    "    title = f\"Landscape evolution (θc = {theta_c})\"\n",
    "    filename = f\"landscape_theta_{theta_c}.mp4\"\n",
    "    make_animation(frames, title, filename)\n",
    "\n",
    "print(\"All simulations and videos completed!\")"
   ]
  },
  {
   "cell_type": "code",
   "execution_count": null,
   "metadata": {},
   "outputs": [],
   "source": []
  }
 ],
 "metadata": {
  "anaconda-cloud": {},
  "kernelspec": {
   "display_name": "data",
   "language": "python",
   "name": "python3"
  },
  "language_info": {
   "codemirror_mode": {
    "name": "ipython",
    "version": 3
   },
   "file_extension": ".py",
   "mimetype": "text/x-python",
   "name": "python",
   "nbconvert_exporter": "python",
   "pygments_lexer": "ipython3",
   "version": "3.12.11"
  }
 },
 "nbformat": 4,
 "nbformat_minor": 4
}
